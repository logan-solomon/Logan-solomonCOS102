{
 "cells": [
  {
   "cell_type": "code",
   "execution_count": 33,
   "id": "f9fc83c5-3384-4c59-9a47-a186a70a96be",
   "metadata": {},
   "outputs": [
    {
     "name": "stdin",
     "output_type": "stream",
     "text": [
      "enter you full name: mary\n"
     ]
    },
    {
     "name": "stdout",
     "output_type": "stream",
     "text": [
      "sorry, name not found in employee data\n"
     ]
    }
   ],
   "source": [
    "\n",
    "import random\n",
    "class check_Employee():\n",
    "    employees = [\"Mary Evans\", \"Eyo Ishan\", \"Durojaiye Dare\", \"Adams Ali\", \"Andrew Ugwu\", \"Stella Mankinde\", \"Jane Akibo\", \"Ago James\", \"Michell Taiwo\", \"Abraham Jones\" , \"Nicole Anide\", \"Kosi Korso\", \"Adele Martins\", \"Emmanuel Ojo\", \"Ajayi Fatima\"]\n",
    "    def __init__(self, name):\n",
    "        self.name = name\n",
    "        self.root = tk.Tk()\n",
    "    def take_attendance(self):\n",
    "        if employee_name in check_Employee.employees:\n",
    "            print(\"you have taken attendance\")\n",
    "    def assign_task(self):\n",
    "        tasks = [\"loading\",\"Transporting\",\"Reveiwing Orders\",\"Customer Service\",\"Delivering items\"]\n",
    "        if employee_name in check_Employee.employees:\n",
    "            print(\"your task is:\", random.choice(tasks))\n",
    "    def refuse_access(self):\n",
    "        if employee_name in check_Employee.employees:\n",
    "            print(\"you are eligible for a task\")\n",
    "        else:\n",
    "            print(\"sorry, name not found in employee data\")\n",
    "            \n",
    "employee_name = input(\"enter your full name:\")\n",
    "employee = check_Employee(employee_name)\n",
    "employee.refuse_access()\n",
    "employee.take_attendance()\n",
    "employee.assign_task()\n"
   ]
  },
  {
   "cell_type": "code",
   "execution_count": 67,
   "id": "7cf50b1e-0fee-4e84-a384-65531e37395d",
   "metadata": {},
   "outputs": [],
   "source": []
  },
  {
   "cell_type": "code",
   "execution_count": null,
   "id": "58872f0c-2b8d-4bd4-8ce2-d307597b439c",
   "metadata": {},
   "outputs": [],
   "source": []
  }
 ],
 "metadata": {
  "kernelspec": {
   "display_name": "Python [conda env:base] *",
   "language": "python",
   "name": "conda-base-py"
  },
  "language_info": {
   "codemirror_mode": {
    "name": "ipython",
    "version": 3
   },
   "file_extension": ".py",
   "mimetype": "text/x-python",
   "name": "python",
   "nbconvert_exporter": "python",
   "pygments_lexer": "ipython3",
   "version": "3.12.7"
  }
 },
 "nbformat": 4,
 "nbformat_minor": 5
}
