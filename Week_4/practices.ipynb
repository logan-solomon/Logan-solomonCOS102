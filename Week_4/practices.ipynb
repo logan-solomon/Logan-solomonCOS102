{
 "cells": [
  {
   "cell_type": "code",
   "execution_count": 18,
   "id": "bca25ef3-a9a5-4c12-831e-0c7411398d52",
   "metadata": {},
   "outputs": [
    {
     "name": "stdout",
     "output_type": "stream",
     "text": [
      "go\n",
      "stop\n"
     ]
    }
   ],
   "source": [
    "def printme(str):\n",
    "    print(str)\n",
    "    return\n",
    "printme(\"go\")\n",
    "printme(\"stop\")"
   ]
  },
  {
   "cell_type": "code",
   "execution_count": 22,
   "id": "1c035de2-e213-4e83-b578-1e9599c35228",
   "metadata": {},
   "outputs": [
    {
     "name": "stdout",
     "output_type": "stream",
     "text": [
      "values inside the function: [10, 20, 30, [1, 2, 3, 4]]\n",
      "value outside the function: [10, 20, 30, [1, 2, 3, 4]]\n"
     ]
    }
   ],
   "source": [
    "def changeme(mylist):\n",
    "    mylist.append([1,2,3,4])\n",
    "    print(\"values inside the function:\", mylist)\n",
    "    return\n",
    "mylist = [10,20,30]\n",
    "changeme(mylist)\n",
    "print(\"value outside the function:\",mylist)"
   ]
  },
  {
   "cell_type": "code",
   "execution_count": 28,
   "id": "7eb017a2-6675-48ed-ae9a-f8fd18adffef",
   "metadata": {},
   "outputs": [
    {
     "name": "stdout",
     "output_type": "stream",
     "text": [
      "values inside the function: [1, 2, 3, 4]\n",
      "value outside the function: [10, 20, 30]\n"
     ]
    }
   ],
   "source": [
    "def changeme(mylist):\n",
    "    mylist = [1,2,3,4]\n",
    "    print(\"values inside the function:\", mylist)\n",
    "    return\n",
    "mylist = [10,20,30]\n",
    "changeme(mylist)\n",
    "print(\"value outside the function:\",mylist)"
   ]
  },
  {
   "cell_type": "code",
   "execution_count": 54,
   "id": "9c007aa6-8dfc-4ce9-a61b-68f77a0da293",
   "metadata": {},
   "outputs": [
    {
     "name": "stdout",
     "output_type": "stream",
     "text": [
      "510\n",
      "5\n"
     ]
    }
   ],
   "source": [
    "def modify_number(x):\n",
    "    x = x + 10\n",
    "    print(x)\n",
    "    \n",
    "num = 5\n",
    "modify_number(num)\n",
    "print(num)  # Output: 5"
   ]
  },
  {
   "cell_type": "code",
   "execution_count": 56,
   "id": "6b927ec6-cec4-427a-bbb4-4aaf37a4f7d4",
   "metadata": {},
   "outputs": [
    {
     "name": "stdout",
     "output_type": "stream",
     "text": [
      "my string\n"
     ]
    }
   ],
   "source": [
    "\n",
    "def printme(str):\n",
    "    print (str)\n",
    "    return\n",
    "\n",
    "printme(str = \"my string\")"
   ]
  },
  {
   "cell_type": "code",
   "execution_count": 108,
   "id": "1e4ab6d2-6331-424f-8d89-9d81cf9383ae",
   "metadata": {},
   "outputs": [
    {
     "name": "stdin",
     "output_type": "stream",
     "text": [
      "enter the value of the radius:  5\n"
     ]
    },
    {
     "name": "stdout",
     "output_type": "stream",
     "text": [
      "the area of the circle is:  78.5\n"
     ]
    }
   ],
   "source": [
    "def calculate_area(radius):\n",
    "    pi = 3.14\n",
    "    float_pi = float(pi)\n",
    "    area =  float_pi * radius ** 2\n",
    "    return area;\n",
    "r_inpt = float(input(\"enter the value of the radius: \"))\n",
    "area = calculate_area(r_inpt)\n",
    "print(\"the area of the circle is: \", area)"
   ]
  },
  {
   "cell_type": "code",
   "execution_count": 123,
   "id": "f679bcca-f8fb-40ff-8473-356f7c11ed7c",
   "metadata": {},
   "outputs": [
    {
     "name": "stdout",
     "output_type": "stream",
     "text": [
      "None\n"
     ]
    }
   ],
   "source": [
    "def swap_first_last(my_list):\n",
    "    x = my_list[0]\n",
    "    y = my_list[3]\n",
    "    my_list[0] = y\n",
    "    my_list[3] = x\n",
    "    \n",
    "my_list1 = ['cow','cat','dog','goat']\n",
    "original = swap_first_last(my_list1)\n",
    "print(original)"
   ]
  },
  {
   "cell_type": "code",
   "execution_count": 1,
   "id": "c1ac7d0d-c0f1-4e21-9ee1-d019d9d72c13",
   "metadata": {},
   "outputs": [
    {
     "name": "stdin",
     "output_type": "stream",
     "text": [
      "enter your name;  leeron\n"
     ]
    }
   ],
   "source": [
    "def greet(name, greeting = \"what's good\"):\n",
    "    greetings = greeting + \", \" + name\n",
    "    return \n",
    "name = str(input(\"enter your name; \"))\n",
    "greet(name)"
   ]
  },
  {
   "cell_type": "code",
   "execution_count": 31,
   "id": "2a34796d-a977-450e-af5c-36fa6e11b266",
   "metadata": {},
   "outputs": [
    {
     "name": "stdout",
     "output_type": "stream",
     "text": [
      "name:  monkey\n",
      "age:  50\n"
     ]
    }
   ],
   "source": [
    "def printinfo(name, age):\n",
    "    print(\"name: \", name)\n",
    "    print(\"age: \", age)\n",
    "    return \n",
    "printinfo(name = \"monkey\", age = 50);"
   ]
  },
  {
   "cell_type": "code",
   "execution_count": 37,
   "id": "4782b771-060a-4b1e-8f15-0560990c9e37",
   "metadata": {},
   "outputs": [
    {
     "name": "stdout",
     "output_type": "stream",
     "text": [
      "name:  monkey\n",
      "age:  50\n",
      "name:  monkey\n",
      "age:  35\n"
     ]
    }
   ],
   "source": [
    "def printinfo(name, age = 35):\n",
    "    print(\"name: \", name)\n",
    "    print(\"age: \", age)\n",
    "    return \n",
    "printinfo(name = \"monkey\", age = 50);\n",
    "printinfo(name =\"monkey\");"
   ]
  },
  {
   "cell_type": "code",
   "execution_count": 113,
   "id": "ff2e5c46-e833-4029-b73c-7bb365b20f82",
   "metadata": {},
   "outputs": [
    {
     "name": "stdin",
     "output_type": "stream",
     "text": [
      "enter 3 values separated by spaces:  10 20 30\n"
     ]
    },
    {
     "name": "stdout",
     "output_type": "stream",
     "text": [
      "Output is: \n",
      "[10, 20, 30]\n",
      "110\n",
      "120\n",
      "130\n"
     ]
    }
   ],
   "source": [
    "def printinfo(int_list):\n",
    "    print (\"Output is: \")\n",
    "    print(int_list)\n",
    "    for i in range(len(int_list)):\n",
    "       answer = int_list[i] + 100\n",
    "       print (answer)\n",
    "       \n",
    "value = input(\"enter 3 values separated by spaces: \")\n",
    "int_list = [int(x) for x in value.split()]\n",
    "printinfo(int_list)"
   ]
  },
  {
   "cell_type": "code",
   "execution_count": 107,
   "id": "9060ff15-6eb9-42df-8b98-1e4f1f9fb348",
   "metadata": {},
   "outputs": [
    {
     "name": "stdout",
     "output_type": "stream",
     "text": [
      "110\n",
      "120\n",
      "130\n",
      "140\n",
      "150\n"
     ]
    }
   ],
   "source": [
    "value = [10,20,30,40,50,60]\n",
    "for i in range(0,5):\n",
    "    answer = value[i] + 100\n",
    "    print (answer)"
   ]
  },
  {
   "cell_type": "code",
   "execution_count": 109,
   "id": "21d82eba-d572-4778-84d0-d7a1032f35dd",
   "metadata": {},
   "outputs": [
    {
     "name": "stdin",
     "output_type": "stream",
     "text": [
      "Enter numbers separated by commas:  1,2,3,4,5,6\n"
     ]
    },
    {
     "name": "stdout",
     "output_type": "stream",
     "text": [
      "[1, 2, 3, 4, 5, 6]\n"
     ]
    }
   ],
   "source": [
    "nums = input(\"Enter numbers separated by commas: \")\n",
    "int_list = [int(x) for x in nums.split(\",\")]\n",
    "print(int_list)"
   ]
  },
  {
   "cell_type": "code",
   "execution_count": 117,
   "id": "2e573c85-88b6-49f2-8d6e-4548d4830843",
   "metadata": {},
   "outputs": [
    {
     "name": "stdout",
     "output_type": "stream",
     "text": [
      "inside the function local total :  30\n",
      "outside the function global total:  50\n"
     ]
    }
   ],
   "source": [
    "total = 50\n",
    "def sum(arg1, arg2):\n",
    "    total = arg1 + arg2;\n",
    "    print(\"inside the function local total : \", total)\n",
    "    return total;\n",
    "sum(10,20);\n",
    "print (\"outside the function global total: \", total)"
   ]
  },
  {
   "cell_type": "code",
   "execution_count": 119,
   "id": "4f5158d6-1ee5-486c-bbb1-d507bbdfb07e",
   "metadata": {},
   "outputs": [
    {
     "name": "stdout",
     "output_type": "stream",
     "text": [
      "lawal edward tolu tina\n",
      "mary\n"
     ]
    }
   ],
   "source": [
    "def swap(x,y):\n",
    "    global a\n",
    "    a = \"lawal\"\n",
    "    x,y = y,x\n",
    "    b = \"chris\"\n",
    "    b = \"edward\"\n",
    "    c = \"lola\"\n",
    "    print(a,b,x,y)\n",
    "    a = \"mary\"\n",
    "swap(\"tina\",\"tolu\")\n",
    "print(a)"
   ]
  },
  {
   "cell_type": "code",
   "execution_count": 149,
   "id": "add714a4-962a-48f5-b62d-ba6191be61ef",
   "metadata": {},
   "outputs": [
    {
     "name": "stdin",
     "output_type": "stream",
     "text": [
      "enter a word:  nun\n"
     ]
    },
    {
     "name": "stdout",
     "output_type": "stream",
     "text": [
      "true\n"
     ]
    }
   ],
   "source": [
    "words = input('enter a word: ')\n",
    "def is_palindrome(word): \n",
    "    if words[::-1] == words and words[0] == words[-1]:\n",
    "       print(\"true\")\n",
    "    else:\n",
    "       print(\"false\")\n",
    "    return\n",
    "is_palindrome(words)\n",
    "    \n",
    "    "
   ]
  },
  {
   "cell_type": "code",
   "execution_count": 94,
   "id": "a6a032e0-c5c1-4f94-97a3-88d39ece61ab",
   "metadata": {},
   "outputs": [
    {
     "ename": "SyntaxError",
     "evalue": "invalid syntax (4147185767.py, line 4)",
     "output_type": "error",
     "traceback": [
      "\u001b[1;36m  Cell \u001b[1;32mIn[94], line 4\u001b[1;36m\u001b[0m\n\u001b[1;33m    divisor = [0:10]\u001b[0m\n\u001b[1;37m                ^\u001b[0m\n\u001b[1;31mSyntaxError\u001b[0m\u001b[1;31m:\u001b[0m invalid syntax\n"
     ]
    }
   ],
   "source": [
    "num = input(\"enter a number: \")\n",
    "num_int = int(num)\n",
    "find_factors(num_int)\n",
    "divisor = [0:10]\n",
    "def find_factors(num_int):\n",
    "      result = num_int / divisor\n",
    "      if result % divisor == 0\n",
    "      print(divisor)\n",
    "       "
   ]
  },
  {
   "cell_type": "code",
   "execution_count": 165,
   "id": "50a6cab9-284c-4b29-bf6e-a5ebb0c499da",
   "metadata": {},
   "outputs": [
    {
     "name": "stdout",
     "output_type": "stream",
     "text": [
      "2\n",
      "3\n",
      "4\n",
      "5\n",
      "6\n",
      "7\n",
      "8\n",
      "9\n",
      "10\n"
     ]
    }
   ],
   "source": [
    "divisor = 1\n",
    "for divisor in range(1,10):\n",
    "    divisor += 1\n",
    "    print (divisor)"
   ]
  }
 ],
 "metadata": {
  "kernelspec": {
   "display_name": "Python [conda env:base] *",
   "language": "python",
   "name": "conda-base-py"
  },
  "language_info": {
   "codemirror_mode": {
    "name": "ipython",
    "version": 3
   },
   "file_extension": ".py",
   "mimetype": "text/x-python",
   "name": "python",
   "nbconvert_exporter": "python",
   "pygments_lexer": "ipython3",
   "version": "3.12.7"
  }
 },
 "nbformat": 4,
 "nbformat_minor": 5
}
