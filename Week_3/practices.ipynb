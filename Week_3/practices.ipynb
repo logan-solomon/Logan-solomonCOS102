{
 "cells": [
  {
   "cell_type": "code",
   "execution_count": 8,
   "id": "f7fdaf42-4dc6-4b24-a010-fff5e562d87c",
   "metadata": {},
   "outputs": [
    {
     "name": "stdout",
     "output_type": "stream",
     "text": [
      "Num has value 1\n",
      "Num has value 2\n",
      "Num has value 4\n",
      "Num has value 5\n",
      "Num has value 6\n",
      "End of loop\n"
     ]
    }
   ],
   "source": [
    "num = 0\n",
    "for num in range(6):\n",
    "  num = num + 1\n",
    "  if num == 3:\n",
    "    continue\n",
    "  print('Num has value ' + str(num))\n",
    "print('End of loop')"
   ]
  },
  {
   "cell_type": "code",
   "execution_count": null,
   "id": "62d0ab05-a03d-4592-ba7b-445ee45f3d73",
   "metadata": {},
   "outputs": [],
   "source": []
  }
 ],
 "metadata": {
  "kernelspec": {
   "display_name": "Python [conda env:base] *",
   "language": "python",
   "name": "conda-base-py"
  },
  "language_info": {
   "codemirror_mode": {
    "name": "ipython",
    "version": 3
   },
   "file_extension": ".py",
   "mimetype": "text/x-python",
   "name": "python",
   "nbconvert_exporter": "python",
   "pygments_lexer": "ipython3",
   "version": "3.12.7"
  }
 },
 "nbformat": 4,
 "nbformat_minor": 5
}
