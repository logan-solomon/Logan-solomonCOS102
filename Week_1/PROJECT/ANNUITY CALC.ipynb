{
 "cells": [
  {
   "cell_type": "code",
   "execution_count": null,
   "id": "514b57a2-cb1b-475a-ab19-f41eadeb3fbc",
   "metadata": {},
   "outputs": [
    {
     "name": "stdout",
     "output_type": "stream",
     "text": [
      "Annuity plan\n"
     ]
    },
    {
     "name": "stdin",
     "output_type": "stream",
     "text": [
      "enter the regular payment amount 100000\n"
     ]
    }
   ],
   "source": [
    "print('Annuity plan')\n",
    "PMT=float(input('enter the regular payment amount'))\n",
    "R=float(input('enter the rate'))\n",
    "N=int(input('enter the number of times interest is compunded'))\n",
    "T=int(input('enter the number of years'))\n",
    "A = PMT * (((1 + (R / N)) ** (N * T) - 1) / (R / N))\n",
    "print('the value of annuity is:', round(A,2))"
   ]
  },
  {
   "cell_type": "code",
   "execution_count": null,
   "id": "59e74689-7ab5-435f-9ace-0ad9b688229c",
   "metadata": {},
   "outputs": [],
   "source": []
  }
 ],
 "metadata": {
  "kernelspec": {
   "display_name": "Python [conda env:base] *",
   "language": "python",
   "name": "conda-base-py"
  },
  "language_info": {
   "codemirror_mode": {
    "name": "ipython",
    "version": 3
   },
   "file_extension": ".py",
   "mimetype": "text/x-python",
   "name": "python",
   "nbconvert_exporter": "python",
   "pygments_lexer": "ipython3",
   "version": "3.12.7"
  }
 },
 "nbformat": 4,
 "nbformat_minor": 5
}
