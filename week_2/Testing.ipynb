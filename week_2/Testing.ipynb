{
 "cells": [
  {
   "cell_type": "markdown",
   "id": "325450e2-733a-4887-9a29-737ec2c5341f",
   "metadata": {},
   "source": [
    "# testing"
   ]
  },
  {
   "cell_type": "code",
   "execution_count": 25,
   "id": "c25eee99-07ac-4574-b688-10c3064e96d8",
   "metadata": {},
   "outputs": [
    {
     "name": "stdout",
     "output_type": "stream",
     "text": [
      "true\n"
     ]
    }
   ],
   "source": [
    "first_name = \"dumebi\"\n",
    "last_name = \"goat\"\n",
    "if \"me\" in first_name: print(\"true\")"
   ]
  },
  {
   "cell_type": "code",
   "execution_count": 41,
   "id": "a4334429-5b1b-4bb9-b74a-33dea955a499",
   "metadata": {},
   "outputs": [
    {
     "name": "stdout",
     "output_type": "stream",
     "text": [
      "[1, 'mango', 'apple']\n",
      "['mango', 'apple']\n"
     ]
    }
   ],
   "source": [
    "empty_list = [1,\"mango\",\"apple\"]\n",
    "print(empty_list)\n",
    "del empty_list[0]\n",
    "print(empty_list)"
   ]
  },
  {
   "cell_type": "code",
   "execution_count": null,
   "id": "d4514185-eb79-47a8-992f-a0ee2bf17cfa",
   "metadata": {},
   "outputs": [],
   "source": []
  },
  {
   "cell_type": "code",
   "execution_count": null,
   "id": "6623a49a-e244-4268-9356-a295de4228fc",
   "metadata": {},
   "outputs": [],
   "source": []
  }
 ],
 "metadata": {
  "kernelspec": {
   "display_name": "Python [conda env:base] *",
   "language": "python",
   "name": "conda-base-py"
  },
  "language_info": {
   "codemirror_mode": {
    "name": "ipython",
    "version": 3
   },
   "file_extension": ".py",
   "mimetype": "text/x-python",
   "name": "python",
   "nbconvert_exporter": "python",
   "pygments_lexer": "ipython3",
   "version": "3.12.7"
  }
 },
 "nbformat": 4,
 "nbformat_minor": 5
}
