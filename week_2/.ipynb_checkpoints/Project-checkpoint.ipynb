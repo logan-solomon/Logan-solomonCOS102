{
 "cells": [
  {
   "cell_type": "code",
   "execution_count": null,
   "id": "d2049301-7407-4f63-8db7-7a6574b96204",
   "metadata": {},
   "outputs": [
    {
     "name": "stdout",
     "output_type": "stream",
     "text": [
      "Select the type of equation to solve:\n",
      "1. Cubic Equation (Ax^3 + Bx^2 + Cx + D = 0)\n",
      "2. Quartic Equation (Ax^4 + Bx^3 + Cx^2 + Dx + E = 0)\n"
     ]
    }
   ],
   "source": [
    "import numpy as np\n",
    "import sympy as sp\n",
    "\n",
    "def solve_cubic(a, b, c, d):\n",
    "    coeffs = [a, b, c, d]\n",
    "    roots = np.roots(coeffs)\n",
    "    return roots\n",
    "\n",
    "def solve_quartic(a, b, c, d, e):\n",
    "    x = sp.symbols('x')\n",
    "    equation = a*x**4 + b*x**3 + c*x**2 + d*x + e\n",
    "    roots = sp.solve(equation, x)\n",
    "    return roots\n",
    "\n",
    "def main():\n",
    "    print(\"Select the type of equation to solve:\")\n",
    "    print(\"1. Cubic Equation (Ax^3 + Bx^2 + Cx + D = 0)\")\n",
    "    print(\"2. Quartic Equation (Ax^4 + Bx^3 + Cx^2 + Dx + E = 0)\")\n",
    "    \n",
    "    choice = input(\"Enter your choice (1 or 2): \")\n",
    "    \n",
    "    if choice == '1':\n",
    "        print(\"Solving a cubic equation\")\n",
    "        a = float(input(\"Enter coefficient A: \"))\n",
    "        b = float(input(\"Enter coefficient B: \"))\n",
    "        c = float(input(\"Enter coefficient C: \"))\n",
    "        d = float(input(\"Enter coefficient D: \"))\n",
    "        roots = solve_cubic(a, b, c, d)\n",
    "        print(\"Roots of the cubic equation:\", roots)\n",
    "    \n",
    "    elif choice == '2':\n",
    "        print(\"Solving a quartic equation\")\n",
    "        a = float(input(\"Enter coefficient A: \"))\n",
    "        b = float(input(\"Enter coefficient B: \"))\n",
    "        c = float(input(\"Enter coefficient C: \"))\n",
    "        d = float(input(\"Enter coefficient D: \"))\n",
    "        e = float(input(\"Enter coefficient E: \"))\n",
    "        roots = solve_quartic(a, b, c, d, e)\n",
    "        print(\"Roots of the quartic equation:\", roots)\n",
    "    \n",
    "    else:\n",
    "        print(\"Invalid choice. Please select 1 or 2.\")\n",
    "\n",
    "if __name__ == \"__main__\":\n",
    "    main()"
   ]
  },
  {
   "cell_type": "code",
   "execution_count": 1,
   "id": "3bc4cf55-9ccf-475b-8d07-e1fc3fa3db59",
   "metadata": {},
   "outputs": [
    {
     "name": "stdout",
     "output_type": "stream",
     "text": [
      "Requirement already satisfied: numpy in c:\\users\\reach\\anaconda3\\lib\\site-packages (1.26.4)\n",
      "Requirement already satisfied: sympy in c:\\users\\reach\\anaconda3\\lib\\site-packages (1.13.2)\n",
      "Requirement already satisfied: mpmath<1.4,>=1.1.0 in c:\\users\\reach\\anaconda3\\lib\\site-packages (from sympy) (1.3.0)\n"
     ]
    }
   ],
   "source": [
    "!pip install numpy sympy"
   ]
  }
 ],
 "metadata": {
  "kernelspec": {
   "display_name": "Python [conda env:base] *",
   "language": "python",
   "name": "conda-base-py"
  },
  "language_info": {
   "codemirror_mode": {
    "name": "ipython",
    "version": 3
   },
   "file_extension": ".py",
   "mimetype": "text/x-python",
   "name": "python",
   "nbconvert_exporter": "python",
   "pygments_lexer": "ipython3",
   "version": "3.12.7"
  }
 },
 "nbformat": 4,
 "nbformat_minor": 5
}
